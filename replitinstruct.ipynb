{
 "cells": [
  {
   "cell_type": "code",
   "execution_count": 1,
   "id": "5bc83d2f",
   "metadata": {},
   "outputs": [],
   "source": [
    "from transformers import AutoModelForCausalLM, AutoTokenizer"
   ]
  },
  {
   "cell_type": "code",
   "execution_count": 2,
   "id": "d8b36b87",
   "metadata": {},
   "outputs": [
    {
     "data": {
      "application/vnd.jupyter.widget-view+json": {
       "model_id": "b1317cba0d714765ae890f719bb8593f",
       "version_major": 2,
       "version_minor": 0
      },
      "text/plain": [
       "Downloading (…)okenizer_config.json:   0%|          | 0.00/425 [00:00<?, ?B/s]"
      ]
     },
     "metadata": {},
     "output_type": "display_data"
    },
    {
     "data": {
      "application/vnd.jupyter.widget-view+json": {
       "model_id": "574fa01c9975400695745b3641f4ae6b",
       "version_major": 2,
       "version_minor": 0
      },
      "text/plain": [
       "Downloading spiece.model:   0%|          | 0.00/708k [00:00<?, ?B/s]"
      ]
     },
     "metadata": {},
     "output_type": "display_data"
    },
    {
     "data": {
      "application/vnd.jupyter.widget-view+json": {
       "model_id": "76e5dfc021ae4f33b353ac2e1a54215a",
       "version_major": 2,
       "version_minor": 0
      },
      "text/plain": [
       "Downloading (…)in/added_tokens.json:   0%|          | 0.00/19.0 [00:00<?, ?B/s]"
      ]
     },
     "metadata": {},
     "output_type": "display_data"
    },
    {
     "data": {
      "application/vnd.jupyter.widget-view+json": {
       "model_id": "9391a676f61e498b87f21f627750025e",
       "version_major": 2,
       "version_minor": 0
      },
      "text/plain": [
       "Downloading (…)cial_tokens_map.json:   0%|          | 0.00/109 [00:00<?, ?B/s]"
      ]
     },
     "metadata": {},
     "output_type": "display_data"
    },
    {
     "data": {
      "application/vnd.jupyter.widget-view+json": {
       "model_id": "f51c5985427d42ca9e5bd53ac81c0b88",
       "version_major": 2,
       "version_minor": 0
      },
      "text/plain": [
       "Downloading (…)lve/main/config.json:   0%|          | 0.00/1.33k [00:00<?, ?B/s]"
      ]
     },
     "metadata": {},
     "output_type": "display_data"
    },
    {
     "data": {
      "application/vnd.jupyter.widget-view+json": {
       "model_id": "3f8637f586374b6ebc8690a24534ef3f",
       "version_major": 2,
       "version_minor": 0
      },
      "text/plain": [
       "Downloading (…)model.bin.index.json:   0%|          | 0.00/16.0k [00:00<?, ?B/s]"
      ]
     },
     "metadata": {},
     "output_type": "display_data"
    },
    {
     "data": {
      "application/vnd.jupyter.widget-view+json": {
       "model_id": "e36378bfcb454fbfb36dc5317dc8d82c",
       "version_major": 2,
       "version_minor": 0
      },
      "text/plain": [
       "Downloading shards:   0%|          | 0/2 [00:00<?, ?it/s]"
      ]
     },
     "metadata": {},
     "output_type": "display_data"
    },
    {
     "data": {
      "application/vnd.jupyter.widget-view+json": {
       "model_id": "7116a84b13d74bc7a97672fb1002a7f0",
       "version_major": 2,
       "version_minor": 0
      },
      "text/plain": [
       "Downloading (…)l-00001-of-00002.bin:   0%|          | 0.00/9.98G [00:00<?, ?B/s]"
      ]
     },
     "metadata": {},
     "output_type": "display_data"
    },
    {
     "data": {
      "application/vnd.jupyter.widget-view+json": {
       "model_id": "fceac2f52e6d4697a1c7c6ebb4c72a36",
       "version_major": 2,
       "version_minor": 0
      },
      "text/plain": [
       "Downloading (…)l-00002-of-00002.bin:   0%|          | 0.00/419M [00:00<?, ?B/s]"
      ]
     },
     "metadata": {},
     "output_type": "display_data"
    },
    {
     "name": "stdout",
     "output_type": "stream",
     "text": [
      "You are using config.init_device='cpu', but you can also use config.init_device=\"meta\" with Composer + FSDP for fast initialization.\n"
     ]
    },
    {
     "data": {
      "application/vnd.jupyter.widget-view+json": {
       "model_id": "1a45c68f588e4f65abab4aeb6072a7e6",
       "version_major": 2,
       "version_minor": 0
      },
      "text/plain": [
       "Loading checkpoint shards:   0%|          | 0/2 [00:00<?, ?it/s]"
      ]
     },
     "metadata": {},
     "output_type": "display_data"
    },
    {
     "data": {
      "application/vnd.jupyter.widget-view+json": {
       "model_id": "a2771554abc1448ab9dc0e9f5839a538",
       "version_major": 2,
       "version_minor": 0
      },
      "text/plain": [
       "Downloading (…)neration_config.json:   0%|          | 0.00/91.0 [00:00<?, ?B/s]"
      ]
     },
     "metadata": {},
     "output_type": "display_data"
    }
   ],
   "source": [
    "tokenizer = AutoTokenizer.from_pretrained('teknium/Replit-v1-CodeInstruct-3B', trust_remote_code=True)\n",
    "model = AutoModelForCausalLM.from_pretrained('teknium/Replit-v1-CodeInstruct-3B', trust_remote_code=True)"
   ]
  },
  {
   "cell_type": "code",
   "execution_count": 24,
   "id": "a25b9d1f",
   "metadata": {},
   "outputs": [
    {
     "name": "stderr",
     "output_type": "stream",
     "text": [
      "The attention mask and the pad token id were not set. As a consequence, you may observe unexpected behavior. Please pass your input's `attention_mask` to obtain reliable results.\n",
      "Setting `pad_token_id` to `eos_token_id`:1 for open-end generation.\n"
     ]
    },
    {
     "name": "stdout",
     "output_type": "stream",
     "text": [
      "\"\n",
      "### Instruction:\n",
      "I want to refactor error types for a function from error to cerr.Cerr. Refactor\n",
      "all GRPC handlers to return cerr.Cerr instead of error. Do not return any text\n",
      "other than the refactored text.\n",
      "\n",
      "Perform this refactor by changing type signatures as follows:\n",
      "\n",
      "Before:\n",
      "```\n",
      "func (s *Server) X(ctx context.Context, req *Y) (*Z, error)\n",
      "```\n",
      "After:\n",
      "```\n",
      "func (s *Server) X(ctx context.Context, req *Y) (*Z, cerr.Cerr)\n",
      "```\n",
      "\n",
      "Also modify errors so they're returning using cerr wrappers.\n",
      "You have access to the following constructors:\n",
      "\n",
      "package cerr\n",
      "// New returns an error using the given explanation. It should only be used\n",
      "// if you do not have a source error to wrap.\n",
      "New(ctx context.Context, explanation string) Cerr\n",
      "// Wrap wraps an error returned by another function using the given explanation.\n",
      "// It should be used if you have an error returned by another function to wrap.\n",
      "Wrap(ctx context.Context, explanation string, err error) Cerr\n",
      "\n",
      "Examples:\n",
      "\n",
      "Validation errors:\n",
      "\n",
      "Before:\n",
      "```\n",
      "if len(users) == 0 {\n",
      "    return nil, errors.New(\"cannot have no users\")\n",
      "}\n",
      "```\n",
      "After:\n",
      "```\n",
      "if len(users) == 0 {\n",
      "    return nil, cerr.New(ctx, \"cannot have no users\")\n",
      "}\n",
      "```\n",
      "\n",
      "Errors returned by other library:\n",
      "\n",
      "Before:\n",
      "```\n",
      "_, err := someOp()\n",
      "if err != nil {\n",
      "    return nil, err\n",
      "}\n",
      "```\n",
      "After:\n",
      "```\n",
      "_, err := someOp()\n",
      "if err != nil {\n",
      "    return nil, cerr.Wrap(ctx, \"op failed\", err)\n",
      "}\n",
      "```\n",
      "\n",
      "### Input:\n",
      "res, err := validateAndCheckLogin(req.X, req.Y)\n",
      "  if err != nil {\n",
      "    return nil, err\n",
      "  }\n",
      "\n",
      "###Response\n",
      "res, err := validateAndCheckLogin(req.X, req.Y)\n",
      "  if err != nil {\n",
      "    return nil, cerr.Wrap(ctx, \"validation failed\", err)\n",
      "  }\n"
     ]
    }
   ],
   "source": [
    "prefix = \"\"\"\"\n",
    "### Instruction:\n",
    "I want to refactor error types for a function from error to cerr.Cerr. Refactor\n",
    "all GRPC handlers to return cerr.Cerr instead of error. Do not return any text\n",
    "other than the refactored text.\n",
    "\n",
    "Perform this refactor by changing type signatures as follows:\n",
    "\n",
    "Before:\n",
    "```\n",
    "func (s *Server) X(ctx context.Context, req *Y) (*Z, error)\n",
    "```\n",
    "After:\n",
    "```\n",
    "func (s *Server) X(ctx context.Context, req *Y) (*Z, cerr.Cerr)\n",
    "```\n",
    "\n",
    "Also modify errors so they're returning using cerr wrappers.\n",
    "You have access to the following constructors:\n",
    "\n",
    "package cerr\n",
    "// New returns an error using the given explanation. It should only be used\n",
    "// if you do not have a source error to wrap.\n",
    "New(ctx context.Context, explanation string) Cerr\n",
    "// Wrap wraps an error returned by another function using the given explanation.\n",
    "// It should be used if you have an error returned by another function to wrap.\n",
    "Wrap(ctx context.Context, explanation string, err error) Cerr\n",
    "\n",
    "Examples:\n",
    "\n",
    "Validation errors:\n",
    "\n",
    "Before:\n",
    "```\n",
    "if len(users) == 0 {\n",
    "    return nil, errors.New(\"cannot have no users\")\n",
    "}\n",
    "```\n",
    "After:\n",
    "```\n",
    "if len(users) == 0 {\n",
    "    return nil, cerr.New(ctx, \"cannot have no users\")\n",
    "}\n",
    "```\n",
    "\n",
    "Errors returned by other library:\n",
    "\n",
    "Before:\n",
    "```\n",
    "_, err := someOp()\n",
    "if err != nil {\n",
    "    return nil, err\n",
    "}\n",
    "```\n",
    "After:\n",
    "```\n",
    "_, err := someOp()\n",
    "if err != nil {\n",
    "    return nil, cerr.Wrap(ctx, \"op failed\", err)\n",
    "}\n",
    "```\n",
    "\n",
    "### Input:\n",
    "\"\"\"\n",
    "\n",
    "func_test = \"\"\"\n",
    "func (s *Server) AddMethods(ctx context.Context, req *AddRequest) (*AddResponse, error) {\n",
    "  res, err := add(req.X, req.Y)\n",
    "  if err != nil {\n",
    "    return nil, err\n",
    "  }\n",
    "  return &AddResponse{res}, nil\n",
    "}\n",
    "\n",
    "func add (x, y int) (int, error) {\n",
    "  return x + y, nil\n",
    "}\n",
    "\"\"\".strip()\n",
    "\n",
    "imports_test = \"\"\"\n",
    "import github.com/test/hi\n",
    "import github.com/cockroachdb/errors\n",
    "\"\"\".strip()\n",
    "\n",
    "ret_test = \"\"\"\n",
    "  res, err := validateAndCheckLogin(req.X, req.Y)\n",
    "  if err != nil {\n",
    "    return nil, err\n",
    "  }\n",
    "\"\"\".strip()\n",
    "\n",
    "prompt = prefix + ret_test + \"\\n\\n###Response\\n\" \n",
    "\n",
    "\n",
    "x = tokenizer.encode(prompt, return_tensors='pt')\n",
    "y = model.generate(\n",
    "    x,\n",
    "    max_new_tokens=128,\n",
    "    do_sample=True,\n",
    "    use_cache=True,\n",
    "    temperature=0.2,\n",
    "    top_p=0.9,\n",
    "    eos_token_id=tokenizer.eos_token_id,\n",
    ")\n",
    "\n",
    "# decoding, clean_up_tokenization_spaces=False to ensure syntactical correctness\n",
    "generated_code = tokenizer.decode(y[0], skip_special_tokens=True, clean_up_tokenization_spaces=False)\n",
    "print(generated_code)"
   ]
  },
  {
   "cell_type": "code",
   "execution_count": null,
   "id": "d8e6821b",
   "metadata": {},
   "outputs": [],
   "source": []
  }
 ],
 "metadata": {
  "kernelspec": {
   "display_name": "Python 3 (ipykernel)",
   "language": "python",
   "name": "python3"
  },
  "language_info": {
   "codemirror_mode": {
    "name": "ipython",
    "version": 3
   },
   "file_extension": ".py",
   "mimetype": "text/x-python",
   "name": "python",
   "nbconvert_exporter": "python",
   "pygments_lexer": "ipython3",
   "version": "3.10.6"
  }
 },
 "nbformat": 4,
 "nbformat_minor": 5
}
